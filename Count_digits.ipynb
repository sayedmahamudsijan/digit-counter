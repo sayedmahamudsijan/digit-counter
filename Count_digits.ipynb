{
  "nbformat": 4,
  "nbformat_minor": 0,
  "metadata": {
    "colab": {
      "provenance": [],
      "mount_file_id": "12NuNkvsgpqNTFpx37aTwFyjbHWeR2NKa",
      "authorship_tag": "ABX9TyPVRJm0gZO/Kt7rKwkYK0Zc",
      "include_colab_link": true
    },
    "kernelspec": {
      "name": "python3",
      "display_name": "Python 3"
    },
    "language_info": {
      "name": "python"
    }
  },
  "cells": [
    {
      "cell_type": "markdown",
      "metadata": {
        "id": "view-in-github",
        "colab_type": "text"
      },
      "source": [
        "<a href=\"https://colab.research.google.com/github/sayedmahamudsijan/digit-counter/blob/main/Count_digits.ipynb\" target=\"_parent\"><img src=\"https://colab.research.google.com/assets/colab-badge.svg\" alt=\"Open In Colab\"/></a>"
      ]
    },
    {
      "cell_type": "code",
      "execution_count": 1,
      "metadata": {
        "colab": {
          "base_uri": "https://localhost:8080/"
        },
        "id": "ElhxVnJzdY4U",
        "outputId": "adc16a11-0285-494f-c83b-d05608a0fb60"
      },
      "outputs": [
        {
          "output_type": "stream",
          "name": "stdout",
          "text": [
            "Requirement already satisfied: opencv-python-headless in /usr/local/lib/python3.11/dist-packages (4.12.0.88)\n",
            "Requirement already satisfied: tqdm in /usr/local/lib/python3.11/dist-packages (4.67.1)\n",
            "Requirement already satisfied: numpy<2.3.0,>=2 in /usr/local/lib/python3.11/dist-packages (from opencv-python-headless) (2.0.2)\n"
          ]
        }
      ],
      "source": [
        "!pip install opencv-python-headless tqdm\n"
      ]
    },
    {
      "cell_type": "code",
      "source": [
        "import os\n",
        "import zipfile\n",
        "import urllib.request\n",
        "\n",
        "# Download ZIP file\n",
        "url = \"https://www.dropbox.com/s/y9bs6r4nc7pj48c/digits.zip?dl=1\"\n",
        "zip_path = \"digits.zip\"\n",
        "\n",
        "print(\"Downloading ZIP file...\")\n",
        "urllib.request.urlretrieve(url, zip_path)\n",
        "\n",
        "# Extract\n",
        "extract_dir = \"digits\"\n",
        "os.makedirs(extract_dir, exist_ok=True)\n",
        "\n",
        "with zipfile.ZipFile(zip_path, 'r') as zip_ref:\n",
        "    zip_ref.extractall(extract_dir)\n",
        "\n",
        "print(\"Extracted to:\", extract_dir)\n"
      ],
      "metadata": {
        "colab": {
          "base_uri": "https://localhost:8080/"
        },
        "id": "RhBaWRrEguaF",
        "outputId": "b76f7569-fe57-4f35-d844-a5f16ec64add"
      },
      "execution_count": 2,
      "outputs": [
        {
          "output_type": "stream",
          "name": "stdout",
          "text": [
            "Downloading ZIP file...\n",
            "Extracted to: digits\n"
          ]
        }
      ]
    },
    {
      "cell_type": "code",
      "source": [
        "import tensorflow as tf\n",
        "from tensorflow.keras.models import Sequential\n",
        "from tensorflow.keras.layers import Conv2D, MaxPooling2D, Flatten, Dense\n",
        "from tensorflow.keras.utils import to_categorical\n",
        "import os\n",
        "import cv2\n",
        "import numpy as np\n",
        "from tqdm import tqdm\n",
        "\n",
        "# --- Load and preprocess MNIST ---\n",
        "(x_train, y_train), (_, _) = tf.keras.datasets.mnist.load_data()\n",
        "x_train = x_train.reshape(-1, 28, 28, 1).astype('float32') / 255.0\n",
        "y_train_cat = to_categorical(y_train, 10)\n",
        "\n",
        "# --- Build model ---\n",
        "model = Sequential([\n",
        "    Conv2D(32, (3,3), activation='relu', input_shape=(28,28,1)),\n",
        "    MaxPooling2D(2,2),\n",
        "    Conv2D(64, (3,3), activation='relu'),\n",
        "    MaxPooling2D(2,2),\n",
        "    Flatten(),\n",
        "    Dense(64, activation='relu'),\n",
        "    Dense(10, activation='softmax')\n",
        "])\n",
        "\n",
        "model.compile(optimizer='adam', loss='categorical_crossentropy', metrics=['accuracy'])\n",
        "\n",
        "# --- Train model ---\n",
        "print(\"Training model on MNIST...\")\n",
        "model.fit(x_train, y_train_cat, epochs=3, batch_size=64)\n",
        "\n",
        "# --- Predict digits from folder ---\n",
        "digit_counts = [0] * 10\n",
        "folder = \"/content/digits/digits\"  # update path if needed\n",
        "\n",
        "print(\"\\nClassifying digits...\")\n",
        "for filename in tqdm(sorted(os.listdir(folder))):\n",
        "    path = os.path.join(folder, filename)\n",
        "    img = cv2.imread(path, cv2.IMREAD_GRAYSCALE)\n",
        "    if img is None:\n",
        "        continue\n",
        "\n",
        "    img_resized = cv2.resize(img, (28, 28))\n",
        "    img_norm = img_resized.astype('float32') / 255.0\n",
        "    img_input = img_norm.reshape(1, 28, 28, 1)\n",
        "\n",
        "    pred = np.argmax(model.predict(img_input, verbose=0))\n",
        "    digit_counts[pred] += 1\n",
        "\n",
        "# --- Output results ---\n",
        "print(\"\\n📊 Digit counts:\", digit_counts)\n",
        "print(\"🔢 Total images:\", sum(digit_counts))\n"
      ],
      "metadata": {
        "colab": {
          "base_uri": "https://localhost:8080/"
        },
        "id": "VzUJSQEwg5-p",
        "outputId": "7a31881d-d1c5-422c-c27c-644b31182279"
      },
      "execution_count": null,
      "outputs": [
        {
          "output_type": "stream",
          "name": "stderr",
          "text": [
            "/usr/local/lib/python3.11/dist-packages/keras/src/layers/convolutional/base_conv.py:107: UserWarning: Do not pass an `input_shape`/`input_dim` argument to a layer. When using Sequential models, prefer using an `Input(shape)` object as the first layer in the model instead.\n",
            "  super().__init__(activity_regularizer=activity_regularizer, **kwargs)\n"
          ]
        },
        {
          "output_type": "stream",
          "name": "stdout",
          "text": [
            "Training model on MNIST...\n",
            "Epoch 1/3\n",
            "\u001b[1m938/938\u001b[0m \u001b[32m━━━━━━━━━━━━━━━━━━━━\u001b[0m\u001b[37m\u001b[0m \u001b[1m53s\u001b[0m 55ms/step - accuracy: 0.8641 - loss: 0.4412\n",
            "Epoch 2/3\n",
            "\u001b[1m357/938\u001b[0m \u001b[32m━━━━━━━\u001b[0m\u001b[37m━━━━━━━━━━━━━\u001b[0m \u001b[1m33s\u001b[0m 58ms/step - accuracy: 0.9831 - loss: 0.0579"
          ]
        }
      ]
    },
    {
      "cell_type": "code",
      "source": [],
      "metadata": {
        "colab": {
          "base_uri": "https://localhost:8080/"
        },
        "id": "Peyz9gmDhLQI",
        "outputId": "6a96f14a-9da0-43f8-cdde-f732cb96f17b"
      },
      "execution_count": 6,
      "outputs": [
        {
          "output_type": "stream",
          "name": "stdout",
          "text": [
            "\n",
            "Classifying digits...\n"
          ]
        },
        {
          "output_type": "stream",
          "name": "stderr",
          "text": [
            "100%|██████████| 12001/12001 [21:14<00:00,  9.42it/s]"
          ]
        },
        {
          "output_type": "stream",
          "name": "stdout",
          "text": [
            "\n",
            "📊 Digit counts: [1254, 1451, 941, 1511, 1108, 1240, 1221, 942, 951, 1381]\n",
            "🔢 Total images: 12000\n",
            "📈 Model accuracy on MNIST: 0.9848\n"
          ]
        },
        {
          "output_type": "stream",
          "name": "stderr",
          "text": [
            "\n"
          ]
        }
      ]
    }
  ]
}